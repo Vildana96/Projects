{
 "cells": [
  {
   "cell_type": "code",
   "execution_count": 17,
   "metadata": {},
   "outputs": [],
   "source": [
    "import numpy as np\n",
    "import matplotlib.pyplot as plt\n",
    "import pandas as pd\n",
    "from sklearn import model_selection\n",
    "from sklearn import metrics"
   ]
  },
  {
   "cell_type": "markdown",
   "metadata": {},
   "source": [
    "### Učitavanje i priprema podataka"
   ]
  },
  {
   "cell_type": "code",
   "execution_count": 6,
   "metadata": {},
   "outputs": [],
   "source": [
    "data = pd.read_csv('data.csv')"
   ]
  },
  {
   "cell_type": "code",
   "execution_count": 7,
   "metadata": {},
   "outputs": [],
   "source": [
    "data.drop(columns=['Unnamed: 0'], inplace = True)"
   ]
  },
  {
   "cell_type": "code",
   "execution_count": 8,
   "metadata": {},
   "outputs": [],
   "source": [
    "y = data.iloc[:, -1]\n",
    "X = data.iloc[:, :data.shape[1] - 1]"
   ]
  },
  {
   "cell_type": "code",
   "execution_count": 128,
   "metadata": {},
   "outputs": [],
   "source": [
    "number_of_columns = X.shape[1]\n",
    "number_of_rows = X.shape[0]\n",
    "number_of_classes = len(np.unique(y))"
   ]
  },
  {
   "cell_type": "code",
   "execution_count": 10,
   "metadata": {},
   "outputs": [],
   "source": [
    "from sklearn.neighbors import KNeighborsClassifier\n",
    "from sklearn import preprocessing"
   ]
  },
  {
   "cell_type": "markdown",
   "metadata": {},
   "source": [
    "Standardizujemo sve podatke:"
   ]
  },
  {
   "cell_type": "code",
   "execution_count": 14,
   "metadata": {},
   "outputs": [],
   "source": [
    "scaler = preprocessing.StandardScaler()\n",
    "scaler.fit(X)\n",
    "X_knn = scaler.transform(X)"
   ]
  },
  {
   "cell_type": "code",
   "execution_count": 61,
   "metadata": {},
   "outputs": [
    {
     "data": {
      "text/plain": [
       "(11500, 178)"
      ]
     },
     "execution_count": 61,
     "metadata": {},
     "output_type": "execute_result"
    }
   ],
   "source": [
    "X_knn.shape"
   ]
  },
  {
   "cell_type": "code",
   "execution_count": 68,
   "metadata": {},
   "outputs": [
    {
     "data": {
      "text/plain": [
       "array([[ 0.88505134,  1.20992878,  1.46276429, ..., -0.63414367,\n",
       "        -0.43329036, -0.23539922],\n",
       "       [ 2.40057718,  2.36619038,  2.23944096, ...,  1.02342937,\n",
       "         0.95424076,  0.85653664],\n",
       "       [-0.12328657, -0.16915405, -0.22513147, ..., -0.13687176,\n",
       "        -0.13859348, -0.14440456],\n",
       "       ...,\n",
       "       [ 0.07596583,  0.05366719,  0.01337554, ..., -0.3271857 ,\n",
       "        -0.27366289, -0.16260349],\n",
       "       [-1.60862265, -1.41574858, -1.25254628, ..., -0.68939611,\n",
       "        -0.40873229, -0.1686698 ],\n",
       "       [ 0.11823149,  0.15604452,  0.14180239, ..., -0.01408857,\n",
       "        -0.01580312,  0.0072532 ]])"
      ]
     },
     "execution_count": 68,
     "metadata": {},
     "output_type": "execute_result"
    }
   ],
   "source": [
    "X_knn[:10, :]"
   ]
  },
  {
   "cell_type": "markdown",
   "metadata": {},
   "source": [
    "Parametri koje cemo koristiti za izbor i evaluaciju najboljeg modela:"
   ]
  },
  {
   "cell_type": "code",
   "execution_count": 69,
   "metadata": {},
   "outputs": [],
   "source": [
    "knn_par = {'n_neighbors': [3, 5, 7, 9]}\n",
    "k = 10"
   ]
  },
  {
   "cell_type": "code",
   "execution_count": 70,
   "metadata": {},
   "outputs": [],
   "source": [
    "classes = np.unique(y)"
   ]
  },
  {
   "cell_type": "markdown",
   "metadata": {},
   "source": [
    "Pravimo posebne metrike koje koristimo za evaluaciju (f1_score po svim klasama):"
   ]
  },
  {
   "cell_type": "code",
   "execution_count": 71,
   "metadata": {},
   "outputs": [],
   "source": [
    "scoring = {'f1_macro' : 'f1_macro', 'accuracy' : 'accuracy'}\n",
    "for c in classes:\n",
    "    def f1_class(y_true, y_pred, classes, c=c):\n",
    "        return metrics.f1_score(y_true, y_pred, average=None)[c-1]\n",
    "    scoring_name = 'f1_class_%d' % c\n",
    "    scoring[scoring_name] = metrics.make_scorer(f1_class, classes = classes)"
   ]
  },
  {
   "cell_type": "code",
   "execution_count": 72,
   "metadata": {},
   "outputs": [
    {
     "data": {
      "text/plain": [
       "{'f1_macro': 'f1_macro',\n",
       " 'accuracy': 'accuracy',\n",
       " 'f1_class_1': make_scorer(f1_class, classes=[1 2 3 4 5]),\n",
       " 'f1_class_2': make_scorer(f1_class, classes=[1 2 3 4 5]),\n",
       " 'f1_class_3': make_scorer(f1_class, classes=[1 2 3 4 5]),\n",
       " 'f1_class_4': make_scorer(f1_class, classes=[1 2 3 4 5]),\n",
       " 'f1_class_5': make_scorer(f1_class, classes=[1 2 3 4 5])}"
      ]
     },
     "execution_count": 72,
     "metadata": {},
     "output_type": "execute_result"
    }
   ],
   "source": [
    "scoring"
   ]
  },
  {
   "cell_type": "markdown",
   "metadata": {},
   "source": [
    "### Ugnježđena unakrsna validacija"
   ]
  },
  {
   "cell_type": "code",
   "execution_count": 33,
   "metadata": {},
   "outputs": [],
   "source": [
    "scores = model_selection.cross_validate(model_selection.GridSearchCV(KNeighborsClassifier(), param_grid=knn_par, cv=k),\\\n",
    "                                         X_knn, y, scoring=scoring, cv= k, return_train_score=True)"
   ]
  },
  {
   "cell_type": "code",
   "execution_count": 35,
   "metadata": {},
   "outputs": [
    {
     "name": "stdout",
     "output_type": "stream",
     "text": [
      "     fit_time  score_time  test_f1_macro  train_f1_macro  test_accuracy  \\\n",
      "0  325.294730   66.236407       0.490196        0.664568       0.499130   \n",
      "1  327.337975   66.970339       0.484116        0.666664       0.494783   \n",
      "2  317.221991   27.229038       0.476937        0.664131       0.495652   \n",
      "3  131.169498   26.949774       0.488593        0.661262       0.499130   \n",
      "4  130.962133   26.963747       0.504571        0.666485       0.517391   \n",
      "5  131.090742   27.023600       0.496440        0.663365       0.507826   \n",
      "6  131.001034   26.872975       0.472976        0.665337       0.495652   \n",
      "7  132.614868   26.932850       0.466609        0.664920       0.478261   \n",
      "8  132.933251   28.577550       0.457097        0.663826       0.473913   \n",
      "9  132.451457   26.987757       0.484831        0.663200       0.499130   \n",
      "\n",
      "   train_accuracy  test_f1_class_1  train_f1_class_1  test_f1_class_2  \\\n",
      "0        0.674493         0.816327          0.939193         0.496970   \n",
      "1        0.676425         0.868293          0.939704         0.470238   \n",
      "2        0.673623         0.841310          0.940097         0.507163   \n",
      "3        0.671014         0.858561          0.936715         0.479881   \n",
      "4        0.676329         0.865526          0.939224         0.499195   \n",
      "5        0.672367         0.866995          0.936780         0.477341   \n",
      "6        0.674589         0.856448          0.938076         0.468944   \n",
      "7        0.674783         0.844444          0.935558         0.455772   \n",
      "8        0.674010         0.828283          0.941086         0.458824   \n",
      "9        0.672850         0.841310          0.938650         0.480597   \n",
      "\n",
      "   train_f1_class_2  test_f1_class_3  train_f1_class_3  test_f1_class_4  \\\n",
      "0          0.632617         0.478049          0.679820         0.440789   \n",
      "1          0.631542         0.457429          0.688079         0.459016   \n",
      "2          0.623930         0.462562          0.686449         0.413115   \n",
      "3          0.625612         0.466887          0.679741         0.470968   \n",
      "4          0.634752         0.504702          0.683544         0.450980   \n",
      "5          0.627128         0.488449          0.679772         0.507937   \n",
      "6          0.629324         0.500768          0.680926         0.377104   \n",
      "7          0.631764         0.443730          0.684664         0.418605   \n",
      "8          0.626908         0.467200          0.686051         0.386441   \n",
      "9          0.627617         0.491857          0.682602         0.460064   \n",
      "\n",
      "   train_f1_class_4  test_f1_class_5  train_f1_class_5  \n",
      "0          0.612850         0.218845          0.458362  \n",
      "1          0.614474         0.165605          0.459523  \n",
      "2          0.612999         0.160535          0.457181  \n",
      "3          0.615637         0.166667          0.448604  \n",
      "4          0.607545         0.202454          0.467359  \n",
      "5          0.608667         0.141479          0.464477  \n",
      "6          0.620577         0.161616          0.457782  \n",
      "7          0.624550         0.170492          0.448065  \n",
      "8          0.613562         0.144737          0.451525  \n",
      "9          0.606422         0.150327          0.460712  \n"
     ]
    }
   ],
   "source": [
    "scores = pd.DataFrame(scores)\n",
    "print(scores)"
   ]
  },
  {
   "cell_type": "code",
   "execution_count": 40,
   "metadata": {},
   "outputs": [
    {
     "data": {
      "text/plain": [
       "fit_time            189.207768\n",
       "score_time           35.074404\n",
       "test_f1_macro         0.482237\n",
       "train_f1_macro        0.664376\n",
       "test_accuracy         0.496087\n",
       "train_accuracy        0.674048\n",
       "test_f1_class_1       0.848750\n",
       "train_f1_class_1      0.938508\n",
       "test_f1_class_2       0.479492\n",
       "train_f1_class_2      0.629119\n",
       "test_f1_class_3       0.476163\n",
       "train_f1_class_3      0.683165\n",
       "test_f1_class_4       0.438502\n",
       "train_f1_class_4      0.613728\n",
       "test_f1_class_5       0.168276\n",
       "train_f1_class_5      0.457359\n",
       "dtype: float64"
      ]
     },
     "execution_count": 40,
     "metadata": {},
     "output_type": "execute_result"
    }
   ],
   "source": [
    "scores.mean(axis=0)"
   ]
  },
  {
   "cell_type": "code",
   "execution_count": 39,
   "metadata": {},
   "outputs": [
    {
     "data": {
      "text/plain": [
       "0.48223657965105404"
      ]
     },
     "execution_count": 39,
     "metadata": {},
     "output_type": "execute_result"
    }
   ],
   "source": [
    "scores.mean(axis=0)['test_f1_macro']"
   ]
  },
  {
   "cell_type": "code",
   "execution_count": 75,
   "metadata": {},
   "outputs": [
    {
     "data": {
      "text/plain": [
       "0.4960869565217392"
      ]
     },
     "execution_count": 75,
     "metadata": {},
     "output_type": "execute_result"
    }
   ],
   "source": [
    "scores.mean(axis=0)['test_accuracy']"
   ]
  },
  {
   "cell_type": "code",
   "execution_count": 134,
   "metadata": {},
   "outputs": [
    {
     "data": {
      "image/png": "[encoded data removed]",
      "text/plain": [
       "<Figure size 432x288 with 1 Axes>"
      ]
     },
     "metadata": {
      "needs_background": "light"
     },
     "output_type": "display_data"
    }
   ],
   "source": [
    "accuracy_by_k_folds = scores['test_accuracy']\n",
    "plt.bar(np.arange(1, k+1), accuracy_by_k_folds)\n",
    "plt.title('Accuracy po foldovima ')\n",
    "plt.ylabel('Accuracy')\n",
    "plt.xlabel('Fold')\n",
    "plt.show()"
   ]
  },
  {
   "cell_type": "markdown",
   "metadata": {},
   "source": [
    "### Podela podataka na trening i testni skup"
   ]
  },
  {
   "cell_type": "code",
   "execution_count": 41,
   "metadata": {},
   "outputs": [],
   "source": [
    "X_train, X_test, y_train, y_test = model_selection.train_test_split(X, y, test_size = 0.3, stratify = y, random_state = 1996)"
   ]
  },
  {
   "cell_type": "code",
   "execution_count": 42,
   "metadata": {},
   "outputs": [],
   "source": [
    "scaler_train = preprocessing.StandardScaler()\n",
    "scaler_train.fit(X_train)\n",
    "X_train_knn = scaler_train.transform(X_train)\n",
    "X_test_knn = scaler_train.transform(X_test)"
   ]
  },
  {
   "cell_type": "code",
   "execution_count": 50,
   "metadata": {},
   "outputs": [],
   "source": [
    "grid = model_selection.GridSearchCV(KNeighborsClassifier(), param_grid=knn_par, scoring='accuracy', cv=10, return_train_score=True)"
   ]
  },
  {
   "cell_type": "code",
   "execution_count": 51,
   "metadata": {},
   "outputs": [
    {
     "data": {
      "text/plain": [
       "GridSearchCV(cv=10, error_score='raise-deprecating',\n",
       "             estimator=KNeighborsClassifier(algorithm='auto', leaf_size=30,\n",
       "                                            metric='minkowski',\n",
       "                                            metric_params=None, n_jobs=None,\n",
       "                                            n_neighbors=5, p=2,\n",
       "                                            weights='uniform'),\n",
       "             iid='warn', n_jobs=None, param_grid={'n_neighbors': [3, 5, 7, 9]},\n",
       "             pre_dispatch='2*n_jobs', refit=True, return_train_score=True,\n",
       "             scoring='accuracy', verbose=0)"
      ]
     },
     "execution_count": 51,
     "metadata": {},
     "output_type": "execute_result"
    }
   ],
   "source": [
    "grid.fit(X_train_knn, y_train)"
   ]
  },
  {
   "cell_type": "code",
   "execution_count": 52,
   "metadata": {},
   "outputs": [
    {
     "data": {
      "text/plain": [
       "{'n_neighbors': 3}"
      ]
     },
     "execution_count": 52,
     "metadata": {},
     "output_type": "execute_result"
    }
   ],
   "source": [
    "grid.best_params_"
   ]
  },
  {
   "cell_type": "code",
   "execution_count": 55,
   "metadata": {},
   "outputs": [
    {
     "data": {
      "text/plain": [
       "{'mean_fit_time': array([0.06125476, 0.06564739, 0.06603663, 0.06695302]),\n",
       " 'std_fit_time': array([0.00189031, 0.00533437, 0.00347433, 0.00442723]),\n",
       " 'mean_score_time': array([1.63094685, 1.65406857, 1.65278666, 1.63331685]),\n",
       " 'std_score_time': array([0.0182761 , 0.03654317, 0.04282526, 0.01386377]),\n",
       " 'param_n_neighbors': masked_array(data=[3, 5, 7, 9],\n",
       "              mask=[False, False, False, False],\n",
       "        fill_value='?',\n",
       "             dtype=object),\n",
       " 'params': [{'n_neighbors': 3},\n",
       "  {'n_neighbors': 5},\n",
       "  {'n_neighbors': 7},\n",
       "  {'n_neighbors': 9}],\n",
       " 'split0_test_score': array([0.47826087, 0.46832298, 0.44968944, 0.43726708]),\n",
       " 'split1_test_score': array([0.4621118 , 0.4447205 , 0.42732919, 0.42360248]),\n",
       " 'split2_test_score': array([0.46459627, 0.43726708, 0.42857143, 0.40496894]),\n",
       " 'split3_test_score': array([0.46956522, 0.47204969, 0.45714286, 0.43602484]),\n",
       " 'split4_test_score': array([0.4484472 , 0.43975155, 0.42484472, 0.42484472]),\n",
       " 'split5_test_score': array([0.45590062, 0.4484472 , 0.44223602, 0.42484472]),\n",
       " 'split6_test_score': array([0.48695652, 0.45217391, 0.45465839, 0.44099379]),\n",
       " 'split7_test_score': array([0.45217391, 0.43478261, 0.4136646 , 0.41118012]),\n",
       " 'split8_test_score': array([0.46832298, 0.46956522, 0.46956522, 0.44223602]),\n",
       " 'split9_test_score': array([0.47826087, 0.46832298, 0.43850932, 0.42608696]),\n",
       " 'mean_test_score': array([0.46645963, 0.45354037, 0.44062112, 0.42720497]),\n",
       " 'std_test_score': array([0.01172252, 0.0139601 , 0.01641492, 0.01171199]),\n",
       " 'rank_test_score': array([1, 2, 3, 4]),\n",
       " 'split0_train_score': array([0.65452036, 0.57625949, 0.5320911 , 0.50848861]),\n",
       " 'split1_train_score': array([0.65327812, 0.57777778, 0.53664596, 0.50835059]),\n",
       " 'split2_train_score': array([0.65148378, 0.57363699, 0.53043478, 0.50821256]),\n",
       " 'split3_train_score': array([0.65741891, 0.57777778, 0.53719807, 0.50876467]),\n",
       " 'split4_train_score': array([0.64982747, 0.57280883, 0.53567978, 0.50697032]),\n",
       " 'split5_train_score': array([0.65810904, 0.57722567, 0.53512767, 0.50572809]),\n",
       " 'split6_train_score': array([0.65576259, 0.57570738, 0.53236715, 0.50131125]),\n",
       " 'split7_train_score': array([0.65272602, 0.57391304, 0.53429952, 0.50835059]),\n",
       " 'split8_train_score': array([0.65258799, 0.57460317, 0.53250518, 0.50503796]),\n",
       " 'split9_train_score': array([0.65935128, 0.57681159, 0.53595583, 0.50876467]),\n",
       " 'mean_train_score': array([0.65450656, 0.57565217, 0.5342305 , 0.50699793]),\n",
       " 'std_train_score': array([0.00293087, 0.00171753, 0.00214385, 0.00226699])}"
      ]
     },
     "execution_count": 55,
     "metadata": {},
     "output_type": "execute_result"
    }
   ],
   "source": [
    "grid.cv_results_"
   ]
  },
  {
   "cell_type": "code",
   "execution_count": 53,
   "metadata": {},
   "outputs": [
    {
     "data": {
      "text/plain": [
       "<matplotlib.collections.PathCollection at 0x2a6778e7208>"
      ]
     },
     "execution_count": 53,
     "metadata": {},
     "output_type": "execute_result"
    },
    {
     "data": {
      "image/png": "[encoded data removed]",
      "text/plain": [
       "<Figure size 432x288 with 1 Axes>"
      ]
     },
     "metadata": {
      "needs_background": "light"
     },
     "output_type": "display_data"
    }
   ],
   "source": [
    "plt.scatter(grid.param_grid.values(), grid.cv_results_['mean_test_score'])"
   ]
  },
  {
   "cell_type": "code",
   "execution_count": 54,
   "metadata": {},
   "outputs": [
    {
     "data": {
      "text/plain": [
       "<matplotlib.collections.PathCollection at 0x2a67790ca08>"
      ]
     },
     "execution_count": 54,
     "metadata": {},
     "output_type": "execute_result"
    },
    {
     "data": {
      "image/png": "[encoded data removed]",
      "text/plain": [
       "<Figure size 432x288 with 1 Axes>"
      ]
     },
     "metadata": {
      "needs_background": "light"
     },
     "output_type": "display_data"
    }
   ],
   "source": [
    "plt.scatter(grid.param_grid.values(), grid.cv_results_['mean_train_score'])"
   ]
  },
  {
   "cell_type": "code",
   "execution_count": 58,
   "metadata": {},
   "outputs": [
    {
     "data": {
      "text/plain": [
       "KNeighborsClassifier(algorithm='auto', leaf_size=30, metric='minkowski',\n",
       "                     metric_params=None, n_jobs=None, n_neighbors=3, p=2,\n",
       "                     weights='uniform')"
      ]
     },
     "execution_count": 58,
     "metadata": {},
     "output_type": "execute_result"
    }
   ],
   "source": [
    "best_model = KNeighborsClassifier(n_neighbors=grid.best_params_['n_neighbors'])\n",
    "best_model.fit(X_train_knn, y_train)"
   ]
  },
  {
   "cell_type": "code",
   "execution_count": 59,
   "metadata": {},
   "outputs": [
    {
     "name": "stdout",
     "output_type": "stream",
     "text": [
      "              precision    recall  f1-score   support\n",
      "\n",
      "           1       0.99      0.72      0.83       690\n",
      "           2       0.35      0.67      0.46       690\n",
      "           3       0.37      0.63      0.47       690\n",
      "           4       0.90      0.28      0.43       690\n",
      "           5       0.27      0.09      0.13       690\n",
      "\n",
      "    accuracy                           0.48      3450\n",
      "   macro avg       0.57      0.48      0.46      3450\n",
      "weighted avg       0.57      0.48      0.46      3450\n",
      "\n"
     ]
    }
   ],
   "source": [
    "y_pred = best_model.predict(X_test_knn)\n",
    "print(metrics.classification_report(y_test, y_pred))"
   ]
  },
  {
   "cell_type": "code",
   "execution_count": 90,
   "metadata": {},
   "outputs": [
    {
     "name": "stdout",
     "output_type": "stream",
     "text": [
      "[[497 108  59  21   5]\n",
      " [  6 460 211   0  13]\n",
      " [  1 235 438   1  15]\n",
      " [  0 184 180 193 133]\n",
      " [  0 328 302   0  60]]\n"
     ]
    }
   ],
   "source": [
    "cm = metrics.confusion_matrix(y_test, y_pred, classes)\n",
    "print(cm)"
   ]
  },
  {
   "cell_type": "code",
   "execution_count": 110,
   "metadata": {},
   "outputs": [
    {
     "data": {
      "text/plain": [
       "(5.0, 0.0)"
      ]
     },
     "execution_count": 110,
     "metadata": {},
     "output_type": "execute_result"
    },
    {
     "data": {
      "image/png": "[encoded data removed]",
      "text/plain": [
       "<Figure size 720x360 with 2 Axes>"
      ]
     },
     "metadata": {
      "needs_background": "light"
     },
     "output_type": "display_data"
    }
   ],
   "source": [
    "import seaborn\n",
    "df_cm = pd.DataFrame(cm, index = classes, columns=classes)\n",
    "plt.figure(figsize = (10, 5))\n",
    "ax = seaborn.heatmap(df_cm, annot=True, fmt=\"d\")\n",
    "ax.set_ylabel('Stvarna vrednost')\n",
    "ax.set_xlabel('Predvidjena vrednost')\n",
    "bottom, top = ax.get_ylim()\n",
    "ax.set_ylim(bottom + 0.5, top - 0.5)"
   ]
  },
  {
   "cell_type": "code",
   "execution_count": 60,
   "metadata": {},
   "outputs": [
    {
     "data": {
      "text/plain": [
       "KNeighborsClassifier(algorithm='auto', leaf_size=30, metric='minkowski',\n",
       "                     metric_params=None, n_jobs=None, n_neighbors=3, p=2,\n",
       "                     weights='uniform')"
      ]
     },
     "execution_count": 60,
     "metadata": {},
     "output_type": "execute_result"
    }
   ],
   "source": [
    "final_model = KNeighborsClassifier(n_neighbors= grid.best_params_['n_neighbors'])\n",
    "final_model.fit(X_knn, y)"
   ]
  },
  {
   "cell_type": "code",
   "execution_count": null,
   "metadata": {},
   "outputs": [],
   "source": []
  },
  {
   "cell_type": "markdown",
   "metadata": {},
   "source": [
    "## Furijeova transformacija podataka"
   ]
  },
  {
   "cell_type": "code",
   "execution_count": 116,
   "metadata": {},
   "outputs": [
    {
     "name": "stderr",
     "output_type": "stream",
     "text": [
      "C:\\ProgramData\\Anaconda3\\lib\\site-packages\\ipykernel_launcher.py:1: ComplexWarning: Casting complex values to real discards the imaginary part\n",
      "  \"\"\"Entry point for launching an IPython kernel.\n"
     ]
    }
   ],
   "source": [
    "X_knn_fft = np.fft.rfft(X_knn, axis=1).astype(float)"
   ]
  },
  {
   "cell_type": "code",
   "execution_count": 117,
   "metadata": {},
   "outputs": [
    {
     "data": {
      "text/plain": [
       "(11500, 90)"
      ]
     },
     "execution_count": 117,
     "metadata": {},
     "output_type": "execute_result"
    }
   ],
   "source": [
    "X_knn_fft.shape"
   ]
  },
  {
   "cell_type": "markdown",
   "metadata": {},
   "source": [
    "### Ugnježđena unakrsna validacija"
   ]
  },
  {
   "cell_type": "code",
   "execution_count": 118,
   "metadata": {},
   "outputs": [],
   "source": [
    "scores_fft = model_selection.cross_validate(model_selection.GridSearchCV(KNeighborsClassifier(), param_grid=knn_par, cv=k),\\\n",
    "                                         X_knn_fft, y, scoring=scoring, cv= k, return_train_score=True)"
   ]
  },
  {
   "cell_type": "code",
   "execution_count": 119,
   "metadata": {},
   "outputs": [
    {
     "name": "stdout",
     "output_type": "stream",
     "text": [
      "     fit_time  score_time  test_f1_macro  train_f1_macro  test_accuracy  \\\n",
      "0   50.666406   10.316391       0.463118        0.676012       0.460870   \n",
      "1   51.460253   10.079028       0.478332        0.676797       0.482609   \n",
      "2   53.327345   11.048418       0.450710        0.669964       0.452174   \n",
      "3   51.221928   10.415160       0.462421        0.674119       0.461739   \n",
      "4   50.207691    9.779813       0.491908        0.675565       0.486957   \n",
      "5   53.212601   10.255608       0.476194        0.673765       0.479130   \n",
      "6   53.750162   10.966888       0.488715        0.670843       0.492174   \n",
      "7   49.635169    9.861641       0.464383        0.673539       0.469565   \n",
      "8   50.544773   10.836966       0.465887        0.674262       0.466087   \n",
      "9  125.177017   24.317939       0.491410        0.672266       0.490435   \n",
      "\n",
      "   train_accuracy  test_f1_class_1  train_f1_class_1  test_f1_class_2  \\\n",
      "0        0.676715         0.786632          0.930328         0.425197   \n",
      "1        0.677585         0.830000          0.929780         0.451713   \n",
      "2        0.671014         0.827930          0.929339         0.433483   \n",
      "3        0.674300         0.851485          0.929982         0.400000   \n",
      "4        0.676522         0.828283          0.929852         0.430956   \n",
      "5        0.674686         0.849515          0.928791         0.442424   \n",
      "6        0.671498         0.871429          0.930090         0.434389   \n",
      "7        0.673816         0.830846          0.926667         0.435045   \n",
      "8        0.675169         0.802030          0.931458         0.428571   \n",
      "9        0.673623         0.835443          0.931423         0.466770   \n",
      "\n",
      "   train_f1_class_2  test_f1_class_3  train_f1_class_3  test_f1_class_4  \\\n",
      "0          0.611879         0.422259          0.666119         0.460606   \n",
      "1          0.615967         0.465195          0.665157         0.474164   \n",
      "2          0.606234         0.386087          0.659697         0.394904   \n",
      "3          0.610084         0.423012          0.656295         0.466877   \n",
      "4          0.615523         0.452962          0.662848         0.482972   \n",
      "5          0.611857         0.432143          0.664882         0.445122   \n",
      "6          0.607759         0.446397          0.657478         0.487654   \n",
      "7          0.607631         0.460733          0.661188         0.360656   \n",
      "8          0.612091         0.441739          0.662276         0.384365   \n",
      "9          0.612304         0.448336          0.660423         0.469880   \n",
      "\n",
      "   train_f1_class_4  test_f1_class_5  train_f1_class_5  \n",
      "0          0.642767         0.220896          0.528967  \n",
      "1          0.648513         0.170588          0.524570  \n",
      "2          0.641711         0.211144          0.512837  \n",
      "3          0.648886         0.170732          0.525349  \n",
      "4          0.643714         0.264368          0.525886  \n",
      "5          0.640304         0.211765          0.522990  \n",
      "6          0.640856         0.203704          0.518031  \n",
      "7          0.655022         0.234637          0.517187  \n",
      "8          0.644918         0.272727          0.520565  \n",
      "9          0.636536         0.236620          0.520643  \n"
     ]
    }
   ],
   "source": [
    "scores_fft = pd.DataFrame(scores_fft)\n",
    "print(scores_fft)"
   ]
  },
  {
   "cell_type": "code",
   "execution_count": 120,
   "metadata": {},
   "outputs": [
    {
     "data": {
      "text/plain": [
       "fit_time            58.920334\n",
       "score_time          11.787785\n",
       "test_f1_macro        0.473308\n",
       "train_f1_macro       0.673713\n",
       "test_accuracy        0.474174\n",
       "train_accuracy       0.674493\n",
       "test_f1_class_1      0.831359\n",
       "train_f1_class_1     0.929771\n",
       "test_f1_class_2      0.434855\n",
       "train_f1_class_2     0.611133\n",
       "test_f1_class_3      0.437886\n",
       "train_f1_class_3     0.661636\n",
       "test_f1_class_4      0.442720\n",
       "train_f1_class_4     0.644323\n",
       "test_f1_class_5      0.219718\n",
       "train_f1_class_5     0.521702\n",
       "dtype: float64"
      ]
     },
     "execution_count": 120,
     "metadata": {},
     "output_type": "execute_result"
    }
   ],
   "source": [
    "scores_fft.mean(axis=0)"
   ]
  },
  {
   "cell_type": "code",
   "execution_count": 124,
   "metadata": {},
   "outputs": [
    {
     "data": {
      "text/plain": [
       "0.4741739130434783"
      ]
     },
     "execution_count": 124,
     "metadata": {},
     "output_type": "execute_result"
    }
   ],
   "source": [
    "scores_fft.mean(axis=0)['test_accuracy']"
   ]
  },
  {
   "cell_type": "code",
   "execution_count": 125,
   "metadata": {},
   "outputs": [
    {
     "data": {
      "text/plain": [
       "0.47330767818994185"
      ]
     },
     "execution_count": 125,
     "metadata": {},
     "output_type": "execute_result"
    }
   ],
   "source": [
    "scores_fft.mean(axis=0)['test_f1_macro']"
   ]
  },
  {
   "cell_type": "code",
   "execution_count": 133,
   "metadata": {},
   "outputs": [
    {
     "data": {
      "image/png": "[encoded data removed]",
      "text/plain": [
       "<Figure size 432x288 with 1 Axes>"
      ]
     },
     "metadata": {
      "needs_background": "light"
     },
     "output_type": "display_data"
    }
   ],
   "source": [
    "accuracy_by_k_folds = scores_fft['test_accuracy']\n",
    "plt.bar(np.arange(1, k+1), accuracy_by_k_folds)\n",
    "plt.title('Accuracy po foldovima ')\n",
    "plt.ylabel('Accuracy')\n",
    "plt.xlabel('Fold')\n",
    "plt.show()"
   ]
  },
  {
   "cell_type": "code",
   "execution_count": 131,
   "metadata": {},
   "outputs": [
    {
     "data": {
      "text/plain": [
       "array([1, 2, 3, 4, 5])"
      ]
     },
     "execution_count": 131,
     "metadata": {},
     "output_type": "execute_result"
    }
   ],
   "source": [
    "np.arange(1, number_of_classes+1)"
   ]
  },
  {
   "cell_type": "markdown",
   "metadata": {},
   "source": [
    "### Podela podataka na trening i testni skup"
   ]
  },
  {
   "cell_type": "code",
   "execution_count": 111,
   "metadata": {},
   "outputs": [],
   "source": [
    "X_fft_train, X_fft_test, y_train, y_test = model_selection.train_test_split(X_knn_fft, y, test_size = 0.3, stratify = y, random_state = 1996)"
   ]
  },
  {
   "cell_type": "code",
   "execution_count": 112,
   "metadata": {},
   "outputs": [],
   "source": [
    "grid = model_selection.GridSearchCV(KNeighborsClassifier(), param_grid=knn_par, scoring='accuracy', cv=10, return_train_score=True)"
   ]
  },
  {
   "cell_type": "code",
   "execution_count": 113,
   "metadata": {},
   "outputs": [
    {
     "data": {
      "text/plain": [
       "GridSearchCV(cv=10, error_score='raise-deprecating',\n",
       "             estimator=KNeighborsClassifier(algorithm='auto', leaf_size=30,\n",
       "                                            metric='minkowski',\n",
       "                                            metric_params=None, n_jobs=None,\n",
       "                                            n_neighbors=5, p=2,\n",
       "                                            weights='uniform'),\n",
       "             iid='warn', n_jobs=None, param_grid={'n_neighbors': [3, 5, 7, 9]},\n",
       "             pre_dispatch='2*n_jobs', refit=True, return_train_score=True,\n",
       "             scoring='accuracy', verbose=0)"
      ]
     },
     "execution_count": 113,
     "metadata": {},
     "output_type": "execute_result"
    }
   ],
   "source": [
    "grid.fit(X_fft_train, y_train)"
   ]
  },
  {
   "cell_type": "code",
   "execution_count": 114,
   "metadata": {},
   "outputs": [
    {
     "data": {
      "text/plain": [
       "{'n_neighbors': 3}"
      ]
     },
     "execution_count": 114,
     "metadata": {},
     "output_type": "execute_result"
    }
   ],
   "source": [
    "grid.best_params_"
   ]
  },
  {
   "cell_type": "code",
   "execution_count": 115,
   "metadata": {},
   "outputs": [
    {
     "data": {
      "text/plain": [
       "0.4484472049689441"
      ]
     },
     "execution_count": 115,
     "metadata": {},
     "output_type": "execute_result"
    }
   ],
   "source": [
    "grid.best_score_"
   ]
  },
  {
   "cell_type": "code",
   "execution_count": null,
   "metadata": {},
   "outputs": [],
   "source": []
  }
 ],
 "metadata": {
  "kernelspec": {
   "display_name": "Python 3",
   "language": "python",
   "name": "python3"
  },
  "language_info": {
   "codemirror_mode": {
    "name": "ipython",
    "version": 3
   },
   "file_extension": ".py",
   "mimetype": "text/x-python",
   "name": "python",
   "nbconvert_exporter": "python",
   "pygments_lexer": "ipython3",
   "version": "3.7.4"
  }
 },
 "nbformat": 4,
 "nbformat_minor": 2
}
