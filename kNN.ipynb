{
 "cells": [
  {
   "cell_type": "code",
   "execution_count": 17,
   "metadata": {},
   "outputs": [],
   "source": [
    "import numpy as np\n",
    "import matplotlib.pyplot as plt\n",
    "import pandas as pd\n",
    "from sklearn import model_selection\n",
    "from sklearn import metrics"
   ]
  },
  {
   "cell_type": "code",
   "execution_count": 6,
   "metadata": {},
   "outputs": [],
   "source": [
    "data = pd.read_csv('data.csv')"
   ]
  },
  {
   "cell_type": "code",
   "execution_count": 7,
   "metadata": {},
   "outputs": [],
   "source": [
    "data.drop(columns=['Unnamed: 0'], inplace = True)"
   ]
  },
  {
   "cell_type": "code",
   "execution_count": 8,
   "metadata": {},
   "outputs": [],
   "source": [
    "y = data.iloc[:, -1]\n",
    "X = data.iloc[:, :data.shape[1] - 1]"
   ]
  },
  {
   "cell_type": "code",
   "execution_count": 9,
   "metadata": {},
   "outputs": [],
   "source": [
    "number_of_columns = X.shape[1]\n",
    "number_of_rows = X.shape[0]\n",
    "number_of_classes = len(np.unique(y))"
   ]
  },
  {
   "cell_type": "code",
   "execution_count": 10,
   "metadata": {},
   "outputs": [],
   "source": [
    "from sklearn.neighbors import KNeighborsClassifier\n",
    "from sklearn import preprocessing"
   ]
  },
  {
   "cell_type": "code",
   "execution_count": 14,
   "metadata": {},
   "outputs": [],
   "source": [
    "scaler = preprocessing.StandardScaler()\n",
    "scaler.fit(X)\n",
    "X_knn = scaler.transform(X)"
   ]
  },
  {
   "cell_type": "code",
   "execution_count": 20,
   "metadata": {},
   "outputs": [],
   "source": [
    "knn_par = {'n_neighbors': [3, 5, 7, 9]}\n",
    "k = 10"
   ]
  },
  {
   "cell_type": "code",
   "execution_count": 21,
   "metadata": {},
   "outputs": [],
   "source": [
    "classes = np.unique(y)"
   ]
  },
  {
   "cell_type": "code",
   "execution_count": 31,
   "metadata": {},
   "outputs": [],
   "source": [
    "scoring = {'f1_macro' : 'f1_macro', 'accuracy' : 'accuracy'}\n",
    "for c in classes:\n",
    "    def f1_class(y_true, y_pred, classes, c=c):\n",
    "        return metrics.f1_score(y_true, y_pred, average=None)[c-1]\n",
    "    scoring_name = 'f1_class_%d' % c\n",
    "    scoring[scoring_name] = metrics.make_scorer(f1_class, classes = classes)"
   ]
  },
  {
   "cell_type": "code",
   "execution_count": 32,
   "metadata": {},
   "outputs": [
    {
     "data": {
      "text/plain": [
       "{'f1_macro': 'f1_macro',\n",
       " 'accuracy': 'accuracy',\n",
       " 'f1_class_1': make_scorer(f1_class, classes=[1 2 3 4 5]),\n",
       " 'f1_class_2': make_scorer(f1_class, classes=[1 2 3 4 5]),\n",
       " 'f1_class_3': make_scorer(f1_class, classes=[1 2 3 4 5]),\n",
       " 'f1_class_4': make_scorer(f1_class, classes=[1 2 3 4 5]),\n",
       " 'f1_class_5': make_scorer(f1_class, classes=[1 2 3 4 5])}"
      ]
     },
     "execution_count": 32,
     "metadata": {},
     "output_type": "execute_result"
    }
   ],
   "source": [
    "scoring"
   ]
  },
  {
   "cell_type": "code",
   "execution_count": null,
   "metadata": {},
   "outputs": [],
   "source": [
    "scores = model_selection.cross_validate(model_selection.GridSearchCV(KNeighborsClassifier(), param_grid=knn_par, cv=k),\\\n",
    "                                         X_knn, y, scoring=scoring, cv= k, return_train_score=True)"
   ]
  },
  {
   "cell_type": "code",
   "execution_count": 28,
   "metadata": {},
   "outputs": [
    {
     "name": "stdout",
     "output_type": "stream",
     "text": [
      "     fit_time  score_time  test_f1_macro  test_accuracy  test_f1_class_1  \\\n",
      "0  324.257384   65.915775       0.490196       0.499130         0.218845   \n",
      "1  324.768033   66.479575       0.484116       0.494783         0.165605   \n",
      "2  325.759739   65.898303       0.476937       0.495652         0.160535   \n",
      "3  320.777994   65.062134       0.488593       0.499130         0.166667   \n",
      "4  322.913908   66.431056       0.504571       0.517391         0.202454   \n",
      "5  321.611005   66.476452       0.496440       0.507826         0.141479   \n",
      "6  323.104586   66.169442       0.472976       0.495652         0.161616   \n",
      "7  324.243647   66.032804       0.466609       0.478261         0.170492   \n",
      "8  325.242810   65.941102       0.457097       0.473913         0.144737   \n",
      "9  315.991569   66.101656       0.484831       0.499130         0.150327   \n",
      "\n",
      "   test_f1_class_2  test_f1_class_3  test_f1_class_4  test_f1_class_5  \n",
      "0         0.218845         0.218845         0.218845         0.218845  \n",
      "1         0.165605         0.165605         0.165605         0.165605  \n",
      "2         0.160535         0.160535         0.160535         0.160535  \n",
      "3         0.166667         0.166667         0.166667         0.166667  \n",
      "4         0.202454         0.202454         0.202454         0.202454  \n",
      "5         0.141479         0.141479         0.141479         0.141479  \n",
      "6         0.161616         0.161616         0.161616         0.161616  \n",
      "7         0.170492         0.170492         0.170492         0.170492  \n",
      "8         0.144737         0.144737         0.144737         0.144737  \n",
      "9         0.150327         0.150327         0.150327         0.150327  \n"
     ]
    }
   ],
   "source": [
    "print(pd.DataFrame(scores))"
   ]
  },
  {
   "cell_type": "code",
   "execution_count": 30,
   "metadata": {},
   "outputs": [
    {
     "data": {
      "text/plain": [
       "5"
      ]
     },
     "execution_count": 30,
     "metadata": {},
     "output_type": "execute_result"
    }
   ],
   "source": [
    "c"
   ]
  },
  {
   "cell_type": "code",
   "execution_count": null,
   "metadata": {},
   "outputs": [],
   "source": []
  }
 ],
 "metadata": {
  "kernelspec": {
   "display_name": "Python 3",
   "language": "python",
   "name": "python3"
  },
  "language_info": {
   "codemirror_mode": {
    "name": "ipython",
    "version": 3
   },
   "file_extension": ".py",
   "mimetype": "text/x-python",
   "name": "python",
   "nbconvert_exporter": "python",
   "pygments_lexer": "ipython3",
   "version": "3.7.4"
  }
 },
 "nbformat": 4,
 "nbformat_minor": 2
}
